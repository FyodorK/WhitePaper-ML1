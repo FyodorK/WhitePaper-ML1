{
 "cells": [
  {
   "cell_type": "markdown",
   "metadata": {
    "slideshow": {
     "slide_type": "-"
    }
   },
   "source": [
    "<div style=\"width:100%; margin-left:auto; margin-right:auto;\">\n",
    "    <img src=ncc_logo.png style=\"height:70px; float:left; margin-top:0px;\"/>\n",
    "    <img src=intel_logo.png style=\"height:70px; float:right; margin-top:0px;\"/>\n",
    "</div>\n",
    "\n",
    "<div style=\"margin-top:120px;\">\n",
    "    <h1 style=\"text-align:center;\">Introduction to Intel pyDAAL</h1>\n",
    "</div>\n",
    "\n",
    "<div style=\"width:100%; margin-top:50px;\">\n",
    "    <p style=\"text-align:center;\">Raphael Cóbe, Silvio Stanzanni, Jefferson Fialho, Rogério Iope</p>\n",
    "    <p style=\"text-align:center;\">{rmcobe,silvio,jfialho,rogerio}@ncc.unesp.br</p>\n",
    "    <p style=\"text-align:center;\">Source available on <a href=\"https://github.com/intel-unesp-mcp/datascience-workshop\">Github</a>\n",
    "</div>\n"
   ]
  },
  {
   "cell_type": "markdown",
   "metadata": {},
   "source": [
    "## Abstract\n",
    "\n",
    "In this paper we intend to show how the python API of the Intel DAAL tool works. First we explain how to manipulate data using the pyDAAL programming interface, then we show how to integrate it with python data manipulation/math APIs. We then demonstrate how to use the Intel pyDAAL to implement a simple Linear Regression solution for a prediction problem. \n"
   ]
  },
  {
   "cell_type": "markdown",
   "metadata": {},
   "source": [
    "# Introduction\n",
    "\n",
    "Data Science is a new recent field that put together lots of concepts of other areas such as: Data mining, Data Analysis, Data modeling, Data Prediction, Data Visualization and so on.\n",
    "The need for performing such tasks a quickly as possible has become the main issue in today's data solutions. With that in mind, Intel has developed the Data Analytics Acceleration Library (DAAL), a highly optimized library which goal is to provide a full solution for data analytics keeping today's highly parallel systems such as Intel Xeon Phi.   \n",
    "Intel DAAL delivers solutions for many steps of a data analytics pipeline, such as pre-processing, data transformations, dimensionality reduction, data modeling, prediction, and several drivers for reading and writing in most of the common data formats. A summary of all features inside the library can be seen in Figure 1. \n",
    " "
   ]
  },
  {
   "cell_type": "markdown",
   "metadata": {},
   "source": [
    "<center><img src=daal2.png width=\"680px\"/></center>\n",
    "<p style=\"text-align:center;\"><strong>Figure 1.</strong> Main algorithms delivered by Intel DAAL</p>"
   ]
  },
  {
   "cell_type": "markdown",
   "metadata": {},
   "source": [
    "Also, in Figure 1, one can see that all APIs are compatible with C++, Java, and Python (a recent addition available from version 2017 beta). Many of the algorithms implemented inside the tool can be executed in 3 main modes: \n",
    "* **Batch**: in which the processing occurs in a serial way, e.g., the training algorithm is executed in a single node sequentially; \n",
    "* **Distributed**: as the name suggests, in this processing mode, the dataset must be split and distributed among the computing nodes. The algorithm then calculate partial solutions and, at the last step, unifies such solutions; and\n",
    "* **Online**: in this processing mode, the data is considered as being a continuous stream. The processing occurs by building incremental models, and, at the end, building a full model from the partial models.\n",
    "\n",
    "More on the processing modes will be covered during the text.\n",
    "\n",
    "The intention of the tools is to able to cover most of the activities of a typical analytics pipeline such as the one seen on Figure 2."
   ]
  },
  {
   "cell_type": "markdown",
   "metadata": {},
   "source": [
    "<center><img src=\"analytics_pipeline.png\" width=\"880px\"/></center>\n",
    "<p style=\"text-align:center;\"><strong>Figure 2.</strong> Typical Analytics Pipeline</p>"
   ]
  },
  {
   "cell_type": "markdown",
   "metadata": {},
   "source": [
    "The programming model imposed by this framework involves first reading the datasource and loading the correct data structures with the data. The datasource can either be in memory or in a persistent media such as database or a CSV file. Secondly, we need to choose the algorithm for processing the data. In this step we need to specify the computation mode of our choice. Then we have to execute the chosen algorithm. After the execution is finished, depending on the computation mode chosen, we may need to perform a merging step (computation finalization) on which, the partial results are used to produce a final result, e.g., building a final model of partial ones.  \n",
    "In the following Sections we will explain each of the steps described above. It is not our intension to cover all of the algorithms available at the DAAL framework. For this paper we will show an example of linear regression, on a batch computation mode."
   ]
  },
  {
   "cell_type": "markdown",
   "metadata": {},
   "source": [
    "## The data used\n",
    "\n",
    "In this paper we used the data available at the UCI Machine Learning Repository. It is used for prediction of residuary resistance of sailing yachts at the initial design stage. Such task is of a great value for evaluating the ship's performance and for estimating the required propulsive power.  \n",
    "Essentially, the inputs include the basic hull dimensions and the boat velocity. \n",
    "\n",
    "The data set comprises of 308 full-scale observations and, at each observation, we have data of the following features:\n",
    "\n",
    "1. Longitudinal position of the center of buoyancy; \n",
    "2. Prismatic coefficient;\n",
    "3. Length-displacement ratio; \n",
    "4. Beam-draught ratio; \n",
    "5. Length-beam ratio; and \n",
    "6. Froude number.\n",
    "7. Residuary resistance per unit weight of displacement. (this is what we will try to predict)\n",
    "\n",
    "The data used is available at: **TODO: Insert Link**"
   ]
  },
  {
   "cell_type": "markdown",
   "metadata": {},
   "source": [
    "# Data Management\n",
    "\n",
    "\n",
    "The main data abstraction used by the DAAL framework is called Numeric Table. It stores observations on lines and features on columns as can be seen in Figure 3. There are several specializations for this data structure optimized for specific usage cases. We will cover this latter. \n",
    "\n",
    "\n",
    "<center><img src=\"datatable_structure.png\" width=\"270px\"/></center>\n",
    "<p style=\"text-align:center;\"><strong>Figure 3.</strong> Numeric Table</p>"
   ]
  },
  {
   "cell_type": "markdown",
   "metadata": {},
   "source": [
    "On a common usage of the framework, we first have to select the appropriate data source, which provides access for the data itself. It can be a data file, a database connection, a data stream, and so on. Intel DAAL data source interface provides support for 3 main data types: categorical, ordinal, and continuous. A data source main functionality is to stream data back and forward into memory.  \n",
    "\n",
    "The life cycle of a numeric table consists of the following major steps:\n",
    "1. Initialize: construct a numeric table (one has to provide the number of rows and columns)\n",
    "2. Operate: perform any operation needed on the data structure, such as data slicing;\n",
    "3. Deinitialize: deallocate the memory used to store the data structure;\n"
   ]
  },
  {
   "cell_type": "markdown",
   "metadata": {},
   "source": [
    "## Main data structures\n",
    "A numeric table is the key data structure on which the algorithms operate. Intel DAAL supports several specializations of a numeric data layout: \n",
    "\n",
    "* **Heterogeneous Tables**: **Structures of Arrays (SoA)** and **Arrays of Structures (AoS)**. \n",
    "* **Homogeneous Tables**: **dense** and **sparse**. \n",
    "* **Matrices**: **dense matrix**, **packed symmetric matrix**, and **packed triangular matrices**. \n",
    "\n",
    "Essentially, Heterogeneous numeric tables allows to store data features that are of different data types. Intel DAAL provides two ways to represent non-homogeneous numeric tables: Array of Structures - AOS and Structures of Arrays -SOA.\n",
    "AOS Numeric Table stores observations (feature vectors) in a contiguous memory block as can be seen in Figure 4."
   ]
  },
  {
   "cell_type": "markdown",
   "metadata": {},
   "source": [
    "<center><img src=\"aos_structure.png\" style=\"height:160px;\"/></center>\n",
    "<p style=\"text-align:center;\"><strong>Figure 4.</strong> Array of Structures Numeric Table Representation</p>"
   ]
  },
  {
   "cell_type": "markdown",
   "metadata": {},
   "source": [
    "On the other hand, SOA Numeric Table stores data in a way that observations for each feature are laid out contiguously in memory as can be seen in Figure 5."
   ]
  },
  {
   "cell_type": "markdown",
   "metadata": {
    "slideshow": {
     "slide_type": "subslide"
    }
   },
   "source": [
    "<center><img src=\"soa_structure.png\" style=\"height:230px;\"/></center>\n",
    "<p style=\"text-align:center;\"><strong>Figure 5.</strong> Structure of Arrays Numeric Table Representation</p>"
   ]
  },
  {
   "cell_type": "markdown",
   "metadata": {},
   "source": [
    "For the other basic datastructures such as `HomogenNumericTable` class, and matrices such as `PackedTriangularMatrix`, and `PackedSymmetricMatrix`, all the features are of the same basic data type. These data structures store values of the features in memory as one contiguous block in the row-major order.  \n",
    "In Intel DAAL, Matrix is a homogeneous numeric table most suitable for matrix algebra operations. A special treatment is given for special types of matrices such as triangular and symmetric. For those, DAAL delivers implementations with reduced memory footprint, using the special classes: `PackedTriangularMatrix` and `PackedSymmetricMatrix`."
   ]
  },
  {
   "cell_type": "markdown",
   "metadata": {},
   "source": [
    "## Loading Data\n",
    "\n",
    "Following we will present a few ways of reading data using the pyDAAL API. First we will show how to read data from a CSV file and how to perform simple data slicing operations on the data read. Then we will show how to use data types from NumPy python API inside the DAAL framework."
   ]
  },
  {
   "cell_type": "markdown",
   "metadata": {},
   "source": [
    "### From a CSV\n",
    "\n",
    "CSV stands for comma separated value and as the name suggests, in this file, the features values for each observation are separated by commas, conversely, each observation is presented in one line, i.e, after the last feature value, the line is broken into a new one that will present the next observation features values. This file format is one of the most commonly used file formats.  \n",
    "In order to read from a CSV file, we first need to instantiate a new `FileDataSource`. We have to feed the data source with the name of the CSV file. We also have to define wether or not the dataset metadata (`Dictionary`) and the `NumericTable` are automatically created from the CSV."
   ]
  },
  {
   "cell_type": "code",
   "execution_count": 1,
   "metadata": {
    "collapsed": false
   },
   "outputs": [
    {
     "name": "stdout",
     "output_type": "stream",
     "text": [
      "Observations read: 308\n"
     ]
    }
   ],
   "source": [
    "from daal.data_management import FileDataSource\n",
    "from daal.data_management import HomogenNumericTable\n",
    "from daal.data_management import DataSourceIface\n",
    "from daal.data_management import NumericTableIface\n",
    "\n",
    "dataset_filename = 'yacht_hydrodynamics.csv'\n",
    "\n",
    "yacht_datasource = FileDataSource(dataset_filename, \n",
    "                            DataSourceIface.doAllocateNumericTable,\n",
    "                            DataSourceIface.doDictionaryFromContext)\n",
    "\n",
    "number_of_observations = yacht_datasource.loadDataBlock()\n",
    "\n",
    "print(\"Observations read: {}\".format(number_of_observations))"
   ]
  },
  {
   "cell_type": "markdown",
   "metadata": {},
   "source": [
    "<p style=\"text-align:center;\"><strong>Listing 1.</strong> Reading from a CSV file</p>"
   ]
  },
  {
   "cell_type": "markdown",
   "metadata": {},
   "source": [
    "## Integration with NumPy\n",
    "\n",
    "NumPy is widely spread API for manipulating multi-dimensional arrays. It is considered a common denominator in many numeric packages. Many tools for Machine Learning tasks use directly or provide builtin methods for converting from or to NumPy arrays. Following we will show how to create NumericTables from the data inside a CSV file read using NumPy methods. A limitation for creating NumericTables: the NumPy array has to be **C-contiguous**."
   ]
  },
  {
   "cell_type": "code",
   "execution_count": 2,
   "metadata": {
    "collapsed": false
   },
   "outputs": [
    {
     "name": "stdout",
     "output_type": "stream",
     "text": [
      "Is C Contiguous? True\n",
      "Observations read: 308\n"
     ]
    }
   ],
   "source": [
    "import numpy as np\n",
    "\n",
    "data = np.genfromtxt('yacht_hydrodynamics.csv')\n",
    "print(\"Is C Contiguous? {}\".format(data.flags['C']))\n",
    "data_nt = HomogenNumericTable(data)\n",
    "print(\"Observations read: {}\".format(data_nt.getNumberOfRows()))"
   ]
  },
  {
   "cell_type": "markdown",
   "metadata": {},
   "source": [
    "<p style=\"text-align:center;\"><strong>Listing 2.</strong> Reading from a CSV file using NumPy</p>"
   ]
  },
  {
   "cell_type": "markdown",
   "metadata": {},
   "source": [
    "Listing 3 shows how to use a Pandas data frame for creating a NumericTable"
   ]
  },
  {
   "cell_type": "code",
   "execution_count": 3,
   "metadata": {
    "collapsed": false
   },
   "outputs": [
    {
     "name": "stdout",
     "output_type": "stream",
     "text": [
      "Is C Contiguous? False\n",
      "Observations read: 307\n"
     ]
    }
   ],
   "source": [
    "import pandas as pd\n",
    "from daal.data_management import HomogenNumericTable\n",
    "\n",
    "dataframe = pd.read_csv('yacht_hydrodynamics.csv', delimiter=r\"\\s+\")\n",
    "numpy_array = dataframe.values\n",
    "print(\"Is C Contiguous? {}\".format(numpy_array.flags['C']))\n",
    "numpy_array = np.ascontiguousarray(numpy_array, dtype = np.double) #Needs to convert to a C-Contiguous memory layout\n",
    "\n",
    "array_nt = HomogenNumericTable(numpy_array)\n",
    "print(\"Observations read: {}\".format(array_nt.getNumberOfRows()))"
   ]
  },
  {
   "cell_type": "markdown",
   "metadata": {},
   "source": [
    "<p style=\"text-align:center;\"><strong>Listing 3.</strong> Reading from a CSV file using Pandas dataframe</p>"
   ]
  },
  {
   "cell_type": "markdown",
   "metadata": {},
   "source": [
    "Another way to create a `NumericTable` is to provide the NumPy array directly to the constructor. Listing 4 shows how to do this. One very important remark that should be taken into account when building `HomogenNumericTable` from NumPy arrays is that it always needs the array to have the demensions fully defined."
   ]
  },
  {
   "cell_type": "code",
   "execution_count": 4,
   "metadata": {
    "collapsed": false
   },
   "outputs": [
    {
     "name": "stdout",
     "output_type": "stream",
     "text": [
      "Dimensions: (1,6)\n"
     ]
    }
   ],
   "source": [
    "import numpy as np\n",
    "from daal.data_management import HomogenNumericTable\n",
    "\n",
    "numpy_array = np.array([1., 2., 3., 4., 5., 6.]).reshape(1, 6)\n",
    "array_nt = HomogenNumericTable(numpy_array)\n",
    "print(\"Dimensions: ({},{})\".format(array_nt.getNumberOfRows(), array_nt.getNumberOfColumns()))"
   ]
  },
  {
   "cell_type": "markdown",
   "metadata": {},
   "source": [
    "<p style=\"text-align:center;\"><strong>Listing 4.</strong> Generating a NumPy Array and creating a NumericTable from it.</p>"
   ]
  },
  {
   "cell_type": "markdown",
   "metadata": {},
   "source": [
    "It is also possible to extract a NumPy array from a `NumericTable`. The code in Listing 5 shows how to do that. First we need to use a `BlockDescriptor` and fill it with the data from the `NumericTable`. It is important to stress that we have to specify the size of the block - the first parameter for the operation is the first row to load; and the second is the number of rows that will be loaded into the block. We can also specify the purpose of the block when we create, e.g., in Listing 5 we specify that the block should not be used to update the table of the `NumericTable`. We do that by using the parameter `readOnly` - we could also have used the parameters `readWrite` or `writeOnly`.  \n",
    "In that sense, a `BlockDescriptor` works like a view of the dataset. It is important noting that after using the block, we need to release the allocated resources."
   ]
  },
  {
   "cell_type": "code",
   "execution_count": 5,
   "metadata": {
    "collapsed": false
   },
   "outputs": [
    {
     "name": "stdout",
     "output_type": "stream",
     "text": [
      "Dimensions: (3, 2)\n"
     ]
    }
   ],
   "source": [
    "import numpy as np\n",
    "from daal.data_management import BlockDescriptor_Float64, readOnly, HomogenNumericTable\n",
    "\n",
    "block_descriptor = BlockDescriptor_Float64()\n",
    "array_nt = HomogenNumericTable(np.array([1., 2., 3., 4., 5., 6.]).reshape(3,2))\n",
    "array_nt.getBlockOfRows(0, array_nt.getNumberOfRows(), readOnly, block_descriptor)\n",
    "numpy_array = block_descriptor.getArray()\n",
    "array_nt.releaseBlockOfRows(block_descriptor)\n",
    "print(\"Dimensions: {}\".format(numpy_array.shape))"
   ]
  },
  {
   "cell_type": "markdown",
   "metadata": {},
   "source": [
    "<p style=\"text-align:center;\"><strong>Listing 5.</strong> Building a NumPy array from a `NumericTable`</p>"
   ]
  },
  {
   "cell_type": "markdown",
   "metadata": {},
   "source": [
    "The pyDAAL API also allows to integrate other types of `NumericTables` with specific data types such as sparse matrices from scipy."
   ]
  },
  {
   "cell_type": "markdown",
   "metadata": {},
   "source": [
    "In the following section we will present how to use pyDAAL to implement a linear regression on the example data used and described in Section **TODO: fill with number**"
   ]
  },
  {
   "cell_type": "markdown",
   "metadata": {
    "slideshow": {
     "slide_type": "subslide"
    }
   },
   "source": [
    "# Linear Regression\n",
    "\n",
    "Inside any dataset on which we will try to make predictions, we have two types of variables: dependent and independent. The first one has some kind of relationship with some or the combination of the others. The nature of this relationship is what we try to define when we use a Machine Learning technique to make predictions based on the previous data. \n",
    "\n",
    "For our example, we will employ a simple regression technique called Polynomial Linear Regression. In this method we use an algorithm that tries to fit a polynomial function to the data. That means that we will define the coeficients of an equation of the form $\\theta_0 + \\theta_1x_1 + \\theta_2x_2 + ... + \\theta_mx_m$ in order to approximate the behavior of our dependent variable inside our dataset, where $x_i$ is the *i-th* feature in our dataset.  \n",
    "In a more general definition, the problem which we are trying to solve is to estimate the value of $y$ (our dependent variable, or response), based on the observation $X$, also named feature vector.\n",
    "\n",
    "For instance, we may want to use a regression technique to estimate the sales price of a land based on its location, and its dimensions.\n",
    "\n"
   ]
  },
  {
   "cell_type": "markdown",
   "metadata": {
    "slideshow": {
     "slide_type": "subslide"
    }
   },
   "source": [
    "## Linear Regression in Details\n",
    "\n",
    "In order to use a regression based technique, we have to have a dataset for which we know the value of the dependent variable, e.g., we know the actual land prices for a few observations. Also, the value of the response should be continuous.\n",
    "\n",
    "The problem we are addressing here is a minimization problem. Our goal is, at step by step, decrease the error in our equation for which the dependent variable is the result, e.g., assuming that we are fitting a linear model to our data. The error value of our model can be thought as the sum of all the errors for each data point. We can imagine this as the distance between our model equation line and the data points. That is the intuition behind the fitting operation.  \n",
    "The error measure we have just described is called the squared error and is defined as:\n",
    "\n",
    "**Definition 1. Squared Error**: Being the real value of the dependent variable defined as $y_i$ for $i \\leq n$ where $n$ is the number of observations in our dataset. Being the value predicted by the model $\\hat{y}_i$ for $i \\leq n$, the Squared Error $\\epsilon_i$ for the $i$-th observation is given as: $\\epsilon_i = (y_i - \\hat{y}_i)^2$. Thus, our global Squared Error is defined as: $E=\\sum_{i=1}^{n}(y_i - \\hat{y}_i)^2$.\n",
    "\n",
    "In linear regression our challenge is to find the $\\Theta$ vector which minimizes the error $E$ that we presented in Definition 1. In that case, the error $E$ can be seen as a function of $\\theta_1, \\theta_2, ..., \\theta_m$. This is the function we are trying to minimize, i.e., $min(E(\\Theta))$. This problem is called **Multiple Linear Regression** when we use several features to estimate the value of the dependent variable.\n",
    "\n",
    "There are several algorithms for calculating the values of $\\Theta$, one of the most popular is the Gradient Descent **TODO: Include Referece**. Following we will give an intuition of how to solve the multiple linear regression problem using a technique called Normal Equation **TODO: include Reference**."
   ]
  },
  {
   "cell_type": "markdown",
   "metadata": {},
   "source": [
    "### The Math Behind It\n",
    "\n",
    "We first define that the value of our $i$-th response is defined as: $\\hat{y}^{(i)} = \\theta_0 x_0^{(i)} + \\theta_1 x_1^{(i)} + \\theta_2 x_2^{(i)}, ..., \\theta_mx_m^{(i)}$. For notation, we will assume that $\\Theta$ is the vector which contains the $\\theta_m$ values. We will do the same with the features, defined inside the vector $X$, where each $x^{(i)}$ corresponds to the feature vector for the $i$-th observation. We will assume that $x_0^{(i)}=1$ for $i \\leq n$, being $n$ the number of observations, i.e.:\n",
    "\n",
    "$$\n",
    "\\Theta=\n",
    "\\begin{bmatrix}\n",
    "\\theta_0\\\\\n",
    "\\theta_1\\\\\n",
    "\\theta_2\\\\\n",
    "...\\\\\n",
    "\\theta_m\\\\\n",
    "\\end{bmatrix}\n",
    ",\\ X=\n",
    "\\begin{bmatrix}\n",
    "x^{(1)}\\\\\n",
    "x^{(2)}\\\\\n",
    "x^{(3)}\\\\\n",
    "...\\\\\n",
    "x^{(n)}\\\\\n",
    "\\end{bmatrix}\n",
    ",\\ Y=\n",
    "\\begin{bmatrix}\n",
    "y^{(1)}\\\\\n",
    "y^{(2)}\\\\\n",
    "y^{(3)}\\\\\n",
    "...\\\\\n",
    "y^{(n)}\\\\\n",
    "\\end{bmatrix}\n",
    "$$\n",
    "\n",
    "The $y^{(i)}$ dependent variable value is defined as $y^{(i)} = \\hat{y}^{(i)} - \\epsilon^{(i)}$.  \n",
    "Using a vector product notation we get: $Y = X\\Theta - E$ and the Error function $E$ is defined as:  $E(\\Theta) = \\sum_{i=1}^{m} (y^{(i)} - \\Theta^T x^{(i)})^2$, or using the vector product notation we get that $E(\\Theta) = (Y -X\\Theta)^T(Y - X\\Theta)$. \n",
    "\n",
    "Since we are dealing with a minimization problem, we have to take partial derivatives $\\frac{\\partial}{\\partial \\theta_i}$ to solve for each $\\theta_i$ value. Although the math behind this is quite simple we will not cover this demonstration in this paper. Please refer to **TODO: include ref** for more details on how to solve this."
   ]
  },
  {
   "cell_type": "markdown",
   "metadata": {},
   "source": [
    "## Linear Regression in Intel DAAL"
   ]
  },
  {
   "cell_type": "markdown",
   "metadata": {},
   "source": [
    "After building a model, it is important that you are able to evaluate how good that model is. In order to do so, you should always split your dataset into a training partition, on which you will train your model and a test partition, on which you will experiment the model and measure how good that is.  \n",
    "There is no rule of thumb when splitting the model. Still, for most cases, a 20-80 split proportion is a good proportion. You should also be careful to draw random samples from your data in order to cover as much variance as possible. In Listing 6 we show how to draw samples from a data set using NumPy."
   ]
  },
  {
   "cell_type": "code",
   "execution_count": 6,
   "metadata": {
    "collapsed": false
   },
   "outputs": [
    {
     "name": "stdout",
     "output_type": "stream",
     "text": [
      "Number of Observations in Training Partition: 246\n",
      "Number of Observations in Test Partition: 62\n"
     ]
    }
   ],
   "source": [
    "import numpy as np\n",
    "import math\n",
    "from numpy import genfromtxt\n",
    "from daal.data_management import HomogenNumericTable\n",
    "\n",
    "data = np.genfromtxt('yacht_hydrodynamics.csv')\n",
    "sample = np.random.choice(len(data), size=math.floor(.8*len(data)), replace=False)\n",
    "\n",
    "select = np.in1d(range(data.shape[0]), sample)\n",
    "\n",
    "numpy_train_data = data[select,:]\n",
    "numpy_test_data = data[~select,:]\n",
    "\n",
    "train_data_table = HomogenNumericTable(data[select,:])\n",
    "test_data_table = HomogenNumericTable(data[~select,:])\n",
    "\n",
    "print(\"Number of Observations in Training Partition: {}\".format(train_data_table.getNumberOfRows()))\n",
    "print(\"Number of Observations in Test Partition: {}\".format(test_data_table.getNumberOfRows()))"
   ]
  },
  {
   "cell_type": "markdown",
   "metadata": {},
   "source": [
    "<p style=\"text-align:center;\"><strong>Listing 6.</strong> Drawing a random sample from a dataset using NumPy</p>"
   ]
  },
  {
   "cell_type": "markdown",
   "metadata": {},
   "source": [
    "Then, in order to use pyDAAL algorithms we need to separate the dependent variable from the other features. Listing 7 shows how to cut a slice of the dataset. In this listing we use the same data read in Listing 6."
   ]
  },
  {
   "cell_type": "code",
   "execution_count": 7,
   "metadata": {
    "collapsed": false
   },
   "outputs": [
    {
     "name": "stdout",
     "output_type": "stream",
     "text": [
      "Dimension of the train_data dependent variable: (246, 1)\n",
      "Dimension of the train_data: (246, 6)\n",
      "Dimension of the test_data dependent variable: (62, 1)\n",
      "Dimension of the test_data: (62, 6)\n"
     ]
    }
   ],
   "source": [
    "train_data_dependent_variable = numpy_train_data[:,6].reshape(246,1)\n",
    "\n",
    "print(\"Dimension of the train_data dependent variable: {}\".format(train_data_dependent_variable.shape))\n",
    "\n",
    "train_data = np.delete(numpy_train_data, (6), axis=1)\n",
    "print(\"Dimension of the train_data: {}\".format(train_data.shape))\n",
    "\n",
    "\n",
    "# We need to do the same with the test_data\n",
    "\n",
    "test_data_dependent_variable = numpy_test_data[:,6].reshape(62,1)\n",
    "\n",
    "print(\"Dimension of the test_data dependent variable: {}\".format(test_data_dependent_variable.shape))\n",
    "\n",
    "test_data = np.delete(numpy_test_data, (6), axis=1)\n",
    "print(\"Dimension of the test_data: {}\".format(test_data.shape))"
   ]
  },
  {
   "cell_type": "markdown",
   "metadata": {},
   "source": [
    "<p style=\"text-align:center;\"><strong>Listing 7.</strong> Separating Variables</p>"
   ]
  },
  {
   "cell_type": "markdown",
   "metadata": {},
   "source": [
    "After separating the variables, we can create the instance of the algorithm in the chosen computation mode and train it as seen in Listing 8."
   ]
  },
  {
   "cell_type": "code",
   "execution_count": 8,
   "metadata": {
    "collapsed": false
   },
   "outputs": [
    {
     "name": "stdout",
     "output_type": "stream",
     "text": [
      "Coeficients: [[-4.51897971 -0.20069883 -2.27772247  5.61259898 -1.49753647 -3.95521934\n",
      "  -0.78104528]]\n"
     ]
    }
   ],
   "source": [
    "from daal.algorithms.linear_regression import training\n",
    "\n",
    "train_data_table = HomogenNumericTable(train_data)\n",
    "train_outcome_table = HomogenNumericTable(train_data_dependent_variable)\n",
    "\n",
    "algorithm = training.Batch_Float64NormEqDense()\n",
    "                                                                                                   \n",
    "algorithm.input.set(training.data, train_data_table)\n",
    "\n",
    "algorithm.input.set(training.dependentVariables, train_outcome_table)\n",
    "\n",
    "trainingResult = algorithm.compute()\n",
    "\n",
    "beta = trainingResult.get(training.model).getBeta()\n",
    "\n",
    "block_descriptor = BlockDescriptor_Float64()\n",
    "\n",
    "beta.getBlockOfRows(0, beta.getNumberOfRows(), readOnly, block_descriptor)\n",
    "\n",
    "beta_coeficients = block_descriptor.getArray()\n",
    "\n",
    "beta.releaseBlockOfRows(block_descriptor)\n",
    "\n",
    "print(\"Coeficients: {}\".format(beta_coeficients))"
   ]
  },
  {
   "cell_type": "markdown",
   "metadata": {},
   "source": [
    "<p style=\"text-align:center;\"><strong>Listing 8.</strong> Training the Model</p>"
   ]
  },
  {
   "cell_type": "markdown",
   "metadata": {},
   "source": [
    "The values showed by the Listing 8 are the $\\theta_0, \\theta_1, ..., \\theta_m$ for the linear regression equation. Once we have such values it is time to test our model and try to predict the response in the test partition of our dataset. Listing 9 shows how to use the test partition to check our model quality."
   ]
  },
  {
   "cell_type": "code",
   "execution_count": 9,
   "metadata": {
    "collapsed": false
   },
   "outputs": [
    {
     "name": "stdout",
     "output_type": "stream",
     "text": [
      "First 4 predicted values:\n",
      "[[ 2.38863446]\n",
      " [ 2.33005607]\n",
      " [ 2.2910038 ]]\n",
      "First 4 real responses:\n",
      "[[ 0.37]\n",
      " [ 1.59]\n",
      " [ 3.29]]\n"
     ]
    }
   ],
   "source": [
    "from daal.algorithms.linear_regression import prediction\n",
    "\n",
    "test_data_table = HomogenNumericTable(test_data)\n",
    "test_outcome_table = HomogenNumericTable(test_data_dependent_variable)\n",
    "\n",
    "algorithm = prediction.Batch()\n",
    "algorithm.input.setTable(prediction.data, test_data_table)\n",
    "algorithm.input.setModel(prediction.model, \n",
    "                         trainingResult.get(training.model))\n",
    "\n",
    "predictionResult = algorithm.compute()\n",
    "\n",
    "test_result_data_table = predictionResult.get(prediction.prediction)\n",
    "\n",
    "block_descriptor = BlockDescriptor_Float64()\n",
    "\n",
    "test_result_data_table.getBlockOfRows(0, test_result_data_table.getNumberOfRows(), \n",
    "                                      readOnly, block_descriptor)\n",
    "\n",
    "numpy_test_result = block_descriptor.getArray()\n",
    "\n",
    "test_result_data_table.releaseBlockOfRows(block_descriptor)\n",
    "\n",
    "print(\"First 4 predicted values:\")\n",
    "print(numpy_test_result[1:4])\n",
    "print(\"First 4 real responses:\")\n",
    "print(test_data_dependent_variable[1:4])\n"
   ]
  },
  {
   "cell_type": "markdown",
   "metadata": {},
   "source": [
    "<p style=\"text-align:center;\"><strong>Listing 9.</strong> Predicting the Value of the Dependent Variable in the Test Partition</p>"
   ]
  },
  {
   "cell_type": "markdown",
   "metadata": {},
   "source": [
    "## Evaluating the Model Quality"
   ]
  },
  {
   "cell_type": "markdown",
   "metadata": {},
   "source": [
    "It is important to have ways of assessing the model quality. One of the mostly used metrics for doing so is the **Root Mean Squared Error** - RMSE. This measures uses the same unit as the dependent variable and basically show the accumulated error value.  \n",
    "The RMSE as its name suggests is calculated as:\n",
    "$$\n",
    "RMSE = \\sqrt{\\frac{\\sum_{i=1}^{n}(y^{(i)}-\\hat{y}^{(i)})^2}{m}}\n",
    "$$"
   ]
  },
  {
   "cell_type": "markdown",
   "metadata": {},
   "source": [
    "We can define a function using the NumPy matrix operations capability as shown in Listing 10."
   ]
  },
  {
   "cell_type": "code",
   "execution_count": 10,
   "metadata": {
    "collapsed": false
   },
   "outputs": [
    {
     "name": "stdout",
     "output_type": "stream",
     "text": [
      "RMSE: 18.572478074291357\n"
     ]
    }
   ],
   "source": [
    "def RMSE(Y, Y_prime):\n",
    "    return np.sqrt(np.mean((Y_prime - Y)**2))\n",
    "\n",
    "\n",
    "print(\"RMSE: {}\".format(RMSE(test_data_dependent_variable,numpy_test_result)))"
   ]
  },
  {
   "cell_type": "markdown",
   "metadata": {},
   "source": [
    "<p style=\"text-align:center;\"><strong>Listing 10.</strong> RMSE function.</p>"
   ]
  },
  {
   "cell_type": "markdown",
   "metadata": {},
   "source": [
    "## Improving the Model Quality with features Polynomial Expansion"
   ]
  },
  {
   "cell_type": "markdown",
   "metadata": {},
   "source": [
    "In some cases, the behavior of the data cannot be approximated using a linear function. A very popular technique for improving the model quality in cases where linear functions are not enough is Polynomial Feature Expansion. In this technique we include derived features of the original dataset, changing the equation of the regression into a higher order polynomial. Thus, a polynomial expansion of second degree would introduce quadratic versions of the features.\n",
    "\n",
    "The multiple linear regression equation shown - $y^{(i)} = \\theta_0+\\theta_1x_1^{(i)}+\\theta_2x_2^{(i)}+...++\\theta_mx_m^{(i)}$ becomes, in the quadratic expansion: \n",
    "\n",
    "$$y^{(i)} = \\theta_0+(\\theta_1\\ ^{(i)}x_1+\\theta_2\\ ^{(i)}x_1^2)+(\\theta_3\\ ^{(i)}x_2+\\theta_4\\ ^{(i)}x_2^2)+ ...+(\\theta_{2m-1}\\  ^{(i)}x_m+\\theta_{2m}\\  ^{(i)}x_m^2)$$\n",
    "\n",
    "Note that we used the superscript before the variable to denote the $i$-th observation. Luckly, most of the modern data manipulation APIs have a built-in function for performing such expansion. It is the case of the scikit-learn toolkit. In Listing 11 we show our previous examples using several degrees of polynomial expansions.\n",
    "\n",
    "Unfortunately we were not able to do the expansion using the Normal Equation method. The pyDAAL reported that the it was not able to solve the linear system in order to calculate the $\\Theta$ vector. Instead, we used the expansion with another type of Regression strategy, named Ridge regression. This type of regression is less susceptible to multicolinearity - a phenomenon that occurs when two or more features are extremely correlated. One can see that the Polynomial feature expansion although improved a little the error, it has no real effect on this type of regression.\n",
    "\n",
    "We were also not able to expand even further the polynomial because the pyDAAL started to complain that the size of the `NumericTable` used for training the model was not correct. This must be due to a constraint on the number of features used."
   ]
  },
  {
   "cell_type": "code",
   "execution_count": 11,
   "metadata": {
    "collapsed": false,
    "scrolled": true
   },
   "outputs": [
    {
     "name": "stdout",
     "output_type": "stream",
     "text": [
      "1 degree of expanstion RMSE: 18.53016187054608\n",
      "2 degree of expanstion RMSE: 18.560872270321973\n",
      "3 degree of expanstion RMSE: 18.64033806080472\n",
      "4 degree of expanstion RMSE: 18.789575623254077\n"
     ]
    }
   ],
   "source": [
    "from daal.algorithms.ridge_regression import training\n",
    "from daal.algorithms.ridge_regression import prediction\n",
    "from sklearn.preprocessing import PolynomialFeatures\n",
    "\n",
    "train_outcome_table = HomogenNumericTable(train_data_dependent_variable)\n",
    "\n",
    "for i in range(1,5):\n",
    "    poly = PolynomialFeatures(degree=i)\n",
    "\n",
    "    expanded_train_data = poly.fit_transform(train_data)\n",
    "    train_data_table = HomogenNumericTable(expanded_train_data)    \n",
    "\n",
    "    algorithm = training.Batch()\n",
    "    algorithm.input.set(training.data, train_data_table)\n",
    "    algorithm.input.set(training.dependentVariables, train_outcome_table)\n",
    "\n",
    "    training_model = algorithm.compute().get(training.model)\n",
    "\n",
    "    expanded_test_data = poly.fit_transform(test_data)\n",
    "\n",
    "    test_data_table = HomogenNumericTable(expanded_test_data)\n",
    "    test_outcome_table = HomogenNumericTable(test_data_dependent_variable)\n",
    "\n",
    "    prediction_algorithm = prediction.Batch()\n",
    "\n",
    "    prediction_algorithm.input.setNumericTableInput(prediction.data, test_data_table)\n",
    "    prediction_algorithm.input.setModelInput(prediction.model, training_model)\n",
    "\n",
    "    prediction_result = prediction_algorithm.compute()\n",
    "\n",
    "    test_result_data_table = prediction_result.get(prediction.prediction)\n",
    "    block_descriptor = BlockDescriptor_Float64()\n",
    "    test_result_data_table.getBlockOfRows(0, test_result_data_table.getNumberOfRows(), \n",
    "                                              readOnly, block_descriptor)\n",
    "    numpy_test_result = block_descriptor.getArray()\n",
    "    test_result_data_table.releaseBlockOfRows(block_descriptor)\n",
    "\n",
    "    print(\"{} degree of expanstion RMSE: {}\".format(i, RMSE(test_data_dependent_variable,numpy_test_result)))\n"
   ]
  },
  {
   "cell_type": "markdown",
   "metadata": {
    "collapsed": false
   },
   "source": [
    "<p style=\"text-align:center;\"><strong>Listing 11.</strong> Polynomial Feature Expansion.</p>"
   ]
  },
  {
   "cell_type": "markdown",
   "metadata": {},
   "source": [
    "Using the scikit-learn API to perform the same operation we were able to see that expanding the number of features by including their polynomial version can decrease the error. Such result can be seen in Listing 12. Also, it is easy to note that the optimal degree of expansion is 6. In the degrees of expansion 2, 3, and 4 the API also complained that it was not able to solve the linear system."
   ]
  },
  {
   "cell_type": "code",
   "execution_count": 12,
   "metadata": {
    "collapsed": false
   },
   "outputs": [
    {
     "name": "stdout",
     "output_type": "stream",
     "text": [
      "5 degree of expanstion RMSE: 0.5262430966094206\n",
      "6 degree of expanstion RMSE: 0.5162754109760505\n",
      "7 degree of expanstion RMSE: 0.8461026553940937\n",
      "8 degree of expanstion RMSE: 1.0107668063249817\n",
      "9 degree of expanstion RMSE: 1.9400270247052533\n",
      "10 degree of expanstion RMSE: 1.827775097391819\n"
     ]
    }
   ],
   "source": [
    "from sklearn.preprocessing import PolynomialFeatures\n",
    "from sklearn import linear_model\n",
    "\n",
    "for i in range(5,11):\n",
    "    poly = PolynomialFeatures(degree=i)\n",
    "    expanded_train_data = poly.fit_transform(train_data)\n",
    "\n",
    "    regr = linear_model.LinearRegression()\n",
    "\n",
    "    regr.fit(expanded_train_data, train_data_dependent_variable)\n",
    "\n",
    "    numpy_test_result = regr.predict(poly.fit_transform(test_data))\n",
    "    \n",
    "    print(\"{} degree of expanstion RMSE: {}\".format(i, RMSE(test_data_dependent_variable,numpy_test_result)))"
   ]
  },
  {
   "cell_type": "markdown",
   "metadata": {},
   "source": [
    "<p style=\"text-align:center;\"><strong>Listing 12.</strong> Polynomial Feature Expansion using scikit-learn.</p>"
   ]
  },
  {
   "cell_type": "markdown",
   "metadata": {},
   "source": [
    "# Conclusions\n",
    "\n",
    "Intel has developed a good tool for data science tasks. This tools is still on an early development stage, thus it easy to find some problems. This is specially true when using the pyDAAL that was officially released with Parallel Studio version 2017. The community is building around this tool once it provides a great level of integration with other Python tools."
   ]
  }
 ],
 "metadata": {
  "celltoolbar": "Raw Cell Format",
  "kernelspec": {
   "display_name": "Python 3",
   "language": "python",
   "name": "python3"
  },
  "language_info": {
   "codemirror_mode": {
    "name": "ipython",
    "version": 3
   },
   "file_extension": ".py",
   "mimetype": "text/x-python",
   "name": "python",
   "nbconvert_exporter": "python",
   "pygments_lexer": "ipython3",
   "version": "3.5.2"
  }
 },
 "nbformat": 4,
 "nbformat_minor": 0
}
